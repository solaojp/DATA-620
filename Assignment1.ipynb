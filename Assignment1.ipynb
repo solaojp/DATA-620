{
 "cells": [
  {
   "cell_type": "markdown",
   "metadata": {},
   "source": [
    "# DATA 620 - ASSIGNMENT 1"
   ]
  },
  {
   "cell_type": "code",
   "execution_count": null,
   "metadata": {
    "collapsed": true
   },
   "outputs": [],
   "source": [
    "# JAGRUTI SOLAO"
   ]
  },
  {
   "cell_type": "code",
   "execution_count": 12,
   "metadata": {},
   "outputs": [],
   "source": [
    "import matplotlib.pyplot as plt\n"
   ]
  },
  {
   "cell_type": "code",
   "execution_count": 13,
   "metadata": {
    "collapsed": true
   },
   "outputs": [],
   "source": [
    "import nltk\n"
   ]
  },
  {
   "cell_type": "code",
   "execution_count": 14,
   "metadata": {
    "collapsed": true
   },
   "outputs": [],
   "source": [
    "import networkx as nx\n"
   ]
  },
  {
   "cell_type": "code",
   "execution_count": 22,
   "metadata": {},
   "outputs": [
    {
     "data": {
      "image/png": "[encoded data removed]",
      "text/plain": [
       "<matplotlib.figure.Figure at 0x1a20894f98>"
      ]
     },
     "metadata": {},
     "output_type": "display_data"
    }
   ],
   "source": [
    "\n",
    "G=nx.Graph()\n",
    "\n",
    "# Defining edges\n",
    "G.add_edge('Andre','Carol')\n",
    "G.add_edge('Andre','Diane')\n",
    "G.add_edge('Andre','Beverly')\n",
    "G.add_edge('Carol','Fernando')\n",
    "G.add_edge('Carol','Diane')\n",
    "G.add_edge('Carol','Andre')\n",
    "G.add_edge('Fernando','Carol')\n",
    "G.add_edge('Fernando','Andre')\n",
    "G.add_edge('Fernando','Diane')\n",
    "G.add_edge('Fernando','Garth')\n",
    "G.add_edge('Fernando','Heather')\n",
    "G.add_edge('Heather','Ike')\n",
    "G.add_edge('Ike','Jane')\n",
    "G.add_edge('Heather','Garth')\n",
    "G.add_edge('Heather','Fernando')\n",
    "G.add_edge('Garth','Heather')\n",
    "G.add_edge('Garth','Fernando')\n",
    "G.add_edge('Garth','Diane')\n",
    "G.add_edge('Garth','Beverly')\n",
    "G.add_edge('Garth','Ed')\n",
    "G.add_edge('Ed','Garth')\n",
    "G.add_edge('Ed','Diane')\n",
    "G.add_edge('Ed','Beverly')\n",
    "G.add_edge('Beverly','Ed')\n",
    "G.add_edge('Beverly','Garth')\n",
    "G.add_edge('Beverly','Diane')\n",
    "G.add_edge('Beverly','Andre')\n",
    "G.add_edge('Diane','Andre')\n",
    "G.add_edge('Diane','Carol')\n",
    "G.add_edge('Diane','Fernando')\n",
    "G.add_edge('Diane','Garth')\n",
    "G.add_edge('Diane','Ed')\n",
    "G.add_edge('Diane','Beverly')\n",
    "\n",
    "cord={'Andre':(0,1),'Carol':(1,2),'Fernando':(2,1),'Heather':(3,0),'Ike':(4,0),'Jane':(5,0),'Garth':(2,-1),'Ed':(1,-2),\n",
    "     'Beverly':(0,-1),'Diane':(1,0)}\n",
    "\n",
    "# Design - nodes\n",
    "nx.draw_networkx_nodes(G,cord,node_size=1000, node_color='Grey')\n",
    "\n",
    "# Design - edges\n",
    "nx.draw_networkx_edges(G,cord,alpha=0.5,width=6,edge_color = 'Purple')\n",
    "\n",
    "# labels\n",
    "nx.draw_networkx_labels(G,cord,font_size=15,font_family='Times new roman')\n",
    "plt.axis('off')\n",
    "plt.show()"
   ]
  },
  {
   "cell_type": "code",
   "execution_count": null,
   "metadata": {
    "collapsed": true
   },
   "outputs": [],
   "source": []
  },
  {
   "cell_type": "code",
   "execution_count": null,
   "metadata": {
    "collapsed": true
   },
   "outputs": [],
   "source": []
  },
  {
   "cell_type": "code",
   "execution_count": null,
   "metadata": {
    "collapsed": true
   },
   "outputs": [],
   "source": []
  }
 ],
 "metadata": {
  "kernelspec": {
   "display_name": "Python 3",
   "language": "python",
   "name": "python3"
  },
  "language_info": {
   "codemirror_mode": {
    "name": "ipython",
    "version": 3
   },
   "file_extension": ".py",
   "mimetype": "text/x-python",
   "name": "python",
   "nbconvert_exporter": "python",
   "pygments_lexer": "ipython3",
   "version": "3.6.3"
  }
 },
 "nbformat": 4,
 "nbformat_minor": 2
}
